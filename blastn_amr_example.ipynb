{
 "cells": [
  {
   "cell_type": "markdown",
   "metadata": {},
   "source": [
    "# Running BLAST on the Cloud\n",
    "\n",
    "In this notebook we run a BLASTN search using an antibiotic resistance gene (MH168512) as the query and a set of E. coli plasmids as the database.  We'll then use Python and the Pandas module to explore the resulting data.\n",
    "\n",
    "Below, we start out by retrieving the plasmid sequences and building a BLAST database from those.\n",
    "\n",
    "To get started, click on the cell and then use shift-enter to run it or use the Run button above."
   ]
  },
  {
   "cell_type": "code",
   "execution_count": 1,
   "metadata": {},
   "outputs": [
    {
     "name": "stdout",
     "output_type": "stream",
     "text": [
      "  % Total    % Received % Xferd  Average Speed   Time    Time     Time  Current\n",
      "                                 Dload  Upload   Total   Spent    Left  Speed\n",
      "100  125M  100  125M    0     0  7573k      0  0:00:16  0:00:16 --:--:-- 11.5M\n"
     ]
    }
   ],
   "source": [
    "!curl -O https://ftp.ncbi.nlm.nih.gov/blast/demo/Plasmids_562.fsa"
   ]
  },
  {
   "cell_type": "code",
   "execution_count": null,
   "metadata": {},
   "outputs": [],
   "source": [
    "!makeblastdb -in Plasmids_562.fsa -dbtype nucl -parse_seqids -taxid 562 -out Plasmids_562"
   ]
  },
  {
   "cell_type": "markdown",
   "metadata": {},
   "source": [
    "In the makeblastdb command (above), we produced a BLAST database from the plasmid FASTA file, named it Plasmids_562, and set the taxid (taxonomy) for every entry to 562 (E. coli)."
   ]
  },
  {
   "cell_type": "markdown",
   "metadata": {},
   "source": [
    "Next, we download the query file for the antibiotic resistance gene."
   ]
  },
  {
   "cell_type": "code",
   "execution_count": null,
   "metadata": {},
   "outputs": [],
   "source": [
    "!curl -O https://ftp.ncbi.nlm.nih.gov/blast/demo/MH168512.fsa"
   ]
  },
  {
   "cell_type": "markdown",
   "metadata": {},
   "source": [
    "We'll run a BLASTN search and format the results as a table.  The query is our antibiotic resistance gene (MH168512) and the database is the set of plasmid sequences. We're including a lot of fields in the table so we can later use a python script to read it into a pandas dataframe."
   ]
  },
  {
   "cell_type": "code",
   "execution_count": null,
   "metadata": {},
   "outputs": [],
   "source": [
    "!blastn -db Plasmids_562 -query MH168512.fsa -outfmt \"6 qseqid sseqid stitle pident qcovs length mismatch gapopen qstart qend sstart send qframe sframe frames evalue bitscore qseq sseq\" -out MH168512.tab -max_target_seqs 5000"
   ]
  },
  {
   "cell_type": "markdown",
   "metadata": {},
   "source": [
    "Check the output of the tabular results with the UNIX \"head\" command just to make sure something is there:"
   ]
  },
  {
   "cell_type": "code",
   "execution_count": null,
   "metadata": {},
   "outputs": [],
   "source": [
    "!head MH168512.tab"
   ]
  },
  {
   "cell_type": "markdown",
   "metadata": {},
   "source": [
    "Now we download a Python script that we use to load our tabular output into a Pandas dataframe."
   ]
  },
  {
   "cell_type": "code",
   "execution_count": null,
   "metadata": {},
   "outputs": [],
   "source": [
    "!curl -O https://raw.githubusercontent.com/fomightez/sequencework/master/blast-utilities/blast_to_df.py"
   ]
  },
  {
   "cell_type": "markdown",
   "metadata": {},
   "source": [
    "Load the tabular results into a dataframe:"
   ]
  },
  {
   "cell_type": "code",
   "execution_count": null,
   "metadata": {},
   "outputs": [],
   "source": [
    "%run blast_to_df.py MH168512.tab"
   ]
  },
  {
   "cell_type": "markdown",
   "metadata": {},
   "source": [
    "We need one more step to get it into a dataframe we can query. We'll do that and then look at the top of first few lines of the table."
   ]
  },
  {
   "cell_type": "code",
   "execution_count": null,
   "metadata": {},
   "outputs": [],
   "source": [
    "import pandas as pd\n",
    "df = pd.read_pickle(\"BLAST_pickled_df.pkl\")\n",
    "df.head()"
   ]
  },
  {
   "cell_type": "markdown",
   "metadata": {},
   "source": [
    "We can use the dataframe to extract other information.  In the next two cells, we'll check how many rows are in the table, and how many unique database matches we found."
   ]
  },
  {
   "cell_type": "code",
   "execution_count": null,
   "metadata": {},
   "outputs": [],
   "source": [
    "df['sseqid'].count()"
   ]
  },
  {
   "cell_type": "code",
   "execution_count": null,
   "metadata": {},
   "outputs": [],
   "source": [
    "df[df.duplicated('sseqid', 'first') != True]['sseqid'].count()"
   ]
  },
  {
   "cell_type": "markdown",
   "metadata": {},
   "source": [
    "There were 81 rows in the table, but only 77 different database sequences (i.e., plasmids) were found. This indicates that some plasmids contained multiple copies of the AMR gene.  To confirm this, we'll need to go back and take a look at the blast results.  The next command will identify those plasmids with multiple BLAST matches and print them out."
   ]
  },
  {
   "cell_type": "code",
   "execution_count": null,
   "metadata": {},
   "outputs": [],
   "source": [
    "df[df.duplicated('sseqid', False)]"
   ]
  },
  {
   "cell_type": "markdown",
   "metadata": {},
   "source": [
    "It looks like we have three plasmids with multiple BLAST matches.  Those three plasmids are in rows 20-22 (NZ_CP010373.2), 61-62 (NZ_CP025626.1), and 76-77 (NZ_CM007910.1). \n",
    "\n",
    "Looking at these results, we see that these are all strong matches.  All the matches are in excess of 99% identical (pident column) and they all cover most of the gene (length column).  The sstart and send columns identify the start and end of the alignment on the plasmid sequence.\n",
    "\n",
    "This use of pandas was inspired by the workflow at https://github.com/fomightez/blast-binder  "
   ]
  }
 ],
 "metadata": {
  "kernelspec": {
   "display_name": "Python 3",
   "language": "python",
   "name": "python3"
  },
  "language_info": {
   "codemirror_mode": {
    "name": "ipython",
    "version": 3
   },
   "file_extension": ".py",
   "mimetype": "text/x-python",
   "name": "python",
   "nbconvert_exporter": "python",
   "pygments_lexer": "ipython3",
   "version": "3.7.3"
  }
 },
 "nbformat": 4,
 "nbformat_minor": 2
}
